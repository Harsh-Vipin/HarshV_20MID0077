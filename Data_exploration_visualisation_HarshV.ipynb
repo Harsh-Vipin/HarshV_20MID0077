{
 "cells": [
  {
   "cell_type": "markdown",
   "metadata": {},
   "source": [
    "## Introduction\n",
    "\n",
    "**Global Superstore Dataset Analysis**\n",
    "\n",
    "The data contains information about sales transactions, including date, product, quantity, and revenue.\n",
    "This Jupyter Notebook explores the Global Superdf dataset with the aim of uncovering insights into sales patterns and product performance. The analysis is divided into two primary sections:\n",
    "\n",
    "* **Data Exploration:** This phase focuses on preparing the data for analysis by handling missing values, inconsistencies, and outliers. Additionally, exploratory techniques will be employed to understand the dataset's characteristics and identify potential trends.\n",
    "* **Analysis and Visualization:** In this section, in-depth analysis will be conducted to answer specific business questions. Visualizations will be created to effectively communicate findings and support data-driven decision-making."
   ]
  },
  {
   "cell_type": "markdown",
   "metadata": {},
   "source": [
    "\n",
    "\n",
    "## 1. Data Exploration \n",
    "\n",
    "### 1.1 Import Necessary Libraries\n",
    "* Import essential Python libraries for data manipulation, analysis, and visualization: Pandas, NumPy, Matplotlib, and Seaborn.\n",
    "\n",
    "### 1.2 Load the Dataset\n",
    "* Read the data from a CSV file format into a Pandas DataFrame.\n",
    "\n",
    "### 1.3 Initial Data Overview\n",
    "* Get a basic understanding of the dataset:\n",
    "  * View the first few rows of data.\n",
    "  * Get information about column names, data types, and missing values.\n",
    "  * Calculate summary statistics for numerical columns.\n",
    "  * Determine the overall size of the dataset.\n",
    "\n",
    "### 1.4 Handle Missing Values\n",
    "* Identify columns with missing data.\n",
    "* Decide on a strategy to handle missing values.\n",
    "\n",
    "### 1.5 Check for Duplicates\n",
    "* Identify and remove any duplicate rows in the dataset.\n",
    "\n",
    "### 1.6 Data Cleaning and Formatting\n",
    "* Clean and prepare the data for analysis:\n",
    "  * Rename columns for clarity.\n",
    "  * Convert date columns to appropriate datetime format.\n",
    "  * Create new columns if necessary.\n",
    "  * Convert data types as needed.\n",
    "\n",
    "\n",
    "\n"
   ]
  },
  {
   "cell_type": "code",
   "execution_count": 32,
   "metadata": {},
   "outputs": [],
   "source": [
    "# import libraries\n",
    "import numpy as np\n",
    "import pandas as pd\n",
    "import matplotlib.pyplot as plt\n",
    "from matplotlib import ticker as mtick\n",
    "import seaborn as sns"
   ]
  },
  {
   "cell_type": "code",
   "execution_count": 33,
   "metadata": {},
   "outputs": [],
   "source": [
    "# import datasets\n",
    "df = pd.read_csv('/Users/harsh/Downloads/Global-Superstore.csv')"
   ]
  },
  {
   "cell_type": "code",
   "execution_count": 34,
   "metadata": {},
   "outputs": [
    {
     "data": {
      "text/html": [
       "<div>\n",
       "<style scoped>\n",
       "    .dataframe tbody tr th:only-of-type {\n",
       "        vertical-align: middle;\n",
       "    }\n",
       "\n",
       "    .dataframe tbody tr th {\n",
       "        vertical-align: top;\n",
       "    }\n",
       "\n",
       "    .dataframe thead th {\n",
       "        text-align: right;\n",
       "    }\n",
       "</style>\n",
       "<table border=\"1\" class=\"dataframe\">\n",
       "  <thead>\n",
       "    <tr style=\"text-align: right;\">\n",
       "      <th></th>\n",
       "      <th>Row ID</th>\n",
       "      <th>Order ID</th>\n",
       "      <th>Order Date</th>\n",
       "      <th>Ship Date</th>\n",
       "      <th>Ship Mode</th>\n",
       "      <th>Customer ID</th>\n",
       "      <th>Customer Name</th>\n",
       "      <th>Segment</th>\n",
       "      <th>City</th>\n",
       "      <th>State</th>\n",
       "      <th>...</th>\n",
       "      <th>Product ID</th>\n",
       "      <th>Category</th>\n",
       "      <th>Sub-Category</th>\n",
       "      <th>Product Name</th>\n",
       "      <th>Sales</th>\n",
       "      <th>Quantity</th>\n",
       "      <th>Discount</th>\n",
       "      <th>Profit</th>\n",
       "      <th>Shipping Cost</th>\n",
       "      <th>Order Priority</th>\n",
       "    </tr>\n",
       "  </thead>\n",
       "  <tbody>\n",
       "    <tr>\n",
       "      <th>0</th>\n",
       "      <td>32298</td>\n",
       "      <td>CA-2012-124891</td>\n",
       "      <td>7/31/2012</td>\n",
       "      <td>7/31/2012</td>\n",
       "      <td>Same Day</td>\n",
       "      <td>RH-19495</td>\n",
       "      <td>Rick Hansen</td>\n",
       "      <td>Consumer</td>\n",
       "      <td>New York City</td>\n",
       "      <td>New York</td>\n",
       "      <td>...</td>\n",
       "      <td>TEC-AC-10003033</td>\n",
       "      <td>Technology</td>\n",
       "      <td>Accessories</td>\n",
       "      <td>Plantronics CS510 - Over-the-Head monaural Wir...</td>\n",
       "      <td>2309.650</td>\n",
       "      <td>7</td>\n",
       "      <td>0.0</td>\n",
       "      <td>762.1845</td>\n",
       "      <td>933.57</td>\n",
       "      <td>Critical</td>\n",
       "    </tr>\n",
       "    <tr>\n",
       "      <th>1</th>\n",
       "      <td>26341</td>\n",
       "      <td>IN-2013-77878</td>\n",
       "      <td>2/5/2013</td>\n",
       "      <td>2/7/2013</td>\n",
       "      <td>Second Class</td>\n",
       "      <td>JR-16210</td>\n",
       "      <td>Justin Ritter</td>\n",
       "      <td>Corporate</td>\n",
       "      <td>Wollongong</td>\n",
       "      <td>New South Wales</td>\n",
       "      <td>...</td>\n",
       "      <td>FUR-CH-10003950</td>\n",
       "      <td>Furniture</td>\n",
       "      <td>Chairs</td>\n",
       "      <td>Novimex Executive Leather Armchair, Black</td>\n",
       "      <td>3709.395</td>\n",
       "      <td>9</td>\n",
       "      <td>0.1</td>\n",
       "      <td>-288.7650</td>\n",
       "      <td>923.63</td>\n",
       "      <td>Critical</td>\n",
       "    </tr>\n",
       "    <tr>\n",
       "      <th>2</th>\n",
       "      <td>25330</td>\n",
       "      <td>IN-2013-71249</td>\n",
       "      <td>10/17/2013</td>\n",
       "      <td>10/18/2013</td>\n",
       "      <td>First Class</td>\n",
       "      <td>CR-12730</td>\n",
       "      <td>Craig Reiter</td>\n",
       "      <td>Consumer</td>\n",
       "      <td>Brisbane</td>\n",
       "      <td>Queensland</td>\n",
       "      <td>...</td>\n",
       "      <td>TEC-PH-10004664</td>\n",
       "      <td>Technology</td>\n",
       "      <td>Phones</td>\n",
       "      <td>Nokia Smart Phone, with Caller ID</td>\n",
       "      <td>5175.171</td>\n",
       "      <td>9</td>\n",
       "      <td>0.1</td>\n",
       "      <td>919.9710</td>\n",
       "      <td>915.49</td>\n",
       "      <td>Medium</td>\n",
       "    </tr>\n",
       "    <tr>\n",
       "      <th>3</th>\n",
       "      <td>13524</td>\n",
       "      <td>ES-2013-1579342</td>\n",
       "      <td>1/28/2013</td>\n",
       "      <td>1/30/2013</td>\n",
       "      <td>First Class</td>\n",
       "      <td>KM-16375</td>\n",
       "      <td>Katherine Murray</td>\n",
       "      <td>Home Office</td>\n",
       "      <td>Berlin</td>\n",
       "      <td>Berlin</td>\n",
       "      <td>...</td>\n",
       "      <td>TEC-PH-10004583</td>\n",
       "      <td>Technology</td>\n",
       "      <td>Phones</td>\n",
       "      <td>Motorola Smart Phone, Cordless</td>\n",
       "      <td>2892.510</td>\n",
       "      <td>5</td>\n",
       "      <td>0.1</td>\n",
       "      <td>-96.5400</td>\n",
       "      <td>910.16</td>\n",
       "      <td>Medium</td>\n",
       "    </tr>\n",
       "    <tr>\n",
       "      <th>4</th>\n",
       "      <td>47221</td>\n",
       "      <td>SG-2013-4320</td>\n",
       "      <td>11/5/2013</td>\n",
       "      <td>11/6/2013</td>\n",
       "      <td>Same Day</td>\n",
       "      <td>RH-9495</td>\n",
       "      <td>Rick Hansen</td>\n",
       "      <td>Consumer</td>\n",
       "      <td>Dakar</td>\n",
       "      <td>Dakar</td>\n",
       "      <td>...</td>\n",
       "      <td>TEC-SHA-10000501</td>\n",
       "      <td>Technology</td>\n",
       "      <td>Copiers</td>\n",
       "      <td>Sharp Wireless Fax, High-Speed</td>\n",
       "      <td>2832.960</td>\n",
       "      <td>8</td>\n",
       "      <td>0.0</td>\n",
       "      <td>311.5200</td>\n",
       "      <td>903.04</td>\n",
       "      <td>Critical</td>\n",
       "    </tr>\n",
       "  </tbody>\n",
       "</table>\n",
       "<p>5 rows × 24 columns</p>\n",
       "</div>"
      ],
      "text/plain": [
       "   Row ID         Order ID  Order Date   Ship Date     Ship Mode Customer ID  \\\n",
       "0   32298   CA-2012-124891   7/31/2012   7/31/2012      Same Day    RH-19495   \n",
       "1   26341    IN-2013-77878    2/5/2013    2/7/2013  Second Class    JR-16210   \n",
       "2   25330    IN-2013-71249  10/17/2013  10/18/2013   First Class    CR-12730   \n",
       "3   13524  ES-2013-1579342   1/28/2013   1/30/2013   First Class    KM-16375   \n",
       "4   47221     SG-2013-4320   11/5/2013   11/6/2013      Same Day     RH-9495   \n",
       "\n",
       "      Customer Name      Segment           City            State  ...  \\\n",
       "0       Rick Hansen     Consumer  New York City         New York  ...   \n",
       "1     Justin Ritter    Corporate     Wollongong  New South Wales  ...   \n",
       "2      Craig Reiter     Consumer       Brisbane       Queensland  ...   \n",
       "3  Katherine Murray  Home Office         Berlin           Berlin  ...   \n",
       "4       Rick Hansen     Consumer          Dakar            Dakar  ...   \n",
       "\n",
       "         Product ID    Category Sub-Category  \\\n",
       "0   TEC-AC-10003033  Technology  Accessories   \n",
       "1   FUR-CH-10003950   Furniture       Chairs   \n",
       "2   TEC-PH-10004664  Technology       Phones   \n",
       "3   TEC-PH-10004583  Technology       Phones   \n",
       "4  TEC-SHA-10000501  Technology      Copiers   \n",
       "\n",
       "                                        Product Name     Sales Quantity  \\\n",
       "0  Plantronics CS510 - Over-the-Head monaural Wir...  2309.650        7   \n",
       "1          Novimex Executive Leather Armchair, Black  3709.395        9   \n",
       "2                  Nokia Smart Phone, with Caller ID  5175.171        9   \n",
       "3                     Motorola Smart Phone, Cordless  2892.510        5   \n",
       "4                     Sharp Wireless Fax, High-Speed  2832.960        8   \n",
       "\n",
       "  Discount    Profit  Shipping Cost  Order Priority  \n",
       "0      0.0  762.1845         933.57        Critical  \n",
       "1      0.1 -288.7650         923.63        Critical  \n",
       "2      0.1  919.9710         915.49          Medium  \n",
       "3      0.1  -96.5400         910.16          Medium  \n",
       "4      0.0  311.5200         903.04        Critical  \n",
       "\n",
       "[5 rows x 24 columns]"
      ]
     },
     "execution_count": 34,
     "metadata": {},
     "output_type": "execute_result"
    }
   ],
   "source": [
    "# data head\n",
    "df.head()"
   ]
  },
  {
   "cell_type": "code",
   "execution_count": 35,
   "metadata": {},
   "outputs": [
    {
     "name": "stdout",
     "output_type": "stream",
     "text": [
      "<class 'pandas.core.frame.DataFrame'>\n",
      "RangeIndex: 51290 entries, 0 to 51289\n",
      "Data columns (total 24 columns):\n",
      " #   Column          Non-Null Count  Dtype  \n",
      "---  ------          --------------  -----  \n",
      " 0   Row ID          51290 non-null  int64  \n",
      " 1   Order ID        51290 non-null  object \n",
      " 2   Order Date      51290 non-null  object \n",
      " 3   Ship Date       51290 non-null  object \n",
      " 4   Ship Mode       51290 non-null  object \n",
      " 5   Customer ID     51290 non-null  object \n",
      " 6   Customer Name   51290 non-null  object \n",
      " 7   Segment         51290 non-null  object \n",
      " 8   City            51290 non-null  object \n",
      " 9   State           51290 non-null  object \n",
      " 10  Country         51290 non-null  object \n",
      " 11  Postal Code     9994 non-null   float64\n",
      " 12  Market          51290 non-null  object \n",
      " 13  Region          51290 non-null  object \n",
      " 14  Product ID      51290 non-null  object \n",
      " 15  Category        51290 non-null  object \n",
      " 16  Sub-Category    51290 non-null  object \n",
      " 17  Product Name    51290 non-null  object \n",
      " 18  Sales           51290 non-null  float64\n",
      " 19  Quantity        51290 non-null  int64  \n",
      " 20  Discount        51290 non-null  float64\n",
      " 21  Profit          51290 non-null  float64\n",
      " 22  Shipping Cost   51290 non-null  float64\n",
      " 23  Order Priority  51290 non-null  object \n",
      "dtypes: float64(5), int64(2), object(17)\n",
      "memory usage: 9.4+ MB\n"
     ]
    }
   ],
   "source": [
    "# data info\n",
    "df.info()"
   ]
  },
  {
   "cell_type": "code",
   "execution_count": 36,
   "metadata": {},
   "outputs": [
    {
     "data": {
      "text/html": [
       "<div>\n",
       "<style scoped>\n",
       "    .dataframe tbody tr th:only-of-type {\n",
       "        vertical-align: middle;\n",
       "    }\n",
       "\n",
       "    .dataframe tbody tr th {\n",
       "        vertical-align: top;\n",
       "    }\n",
       "\n",
       "    .dataframe thead th {\n",
       "        text-align: right;\n",
       "    }\n",
       "</style>\n",
       "<table border=\"1\" class=\"dataframe\">\n",
       "  <thead>\n",
       "    <tr style=\"text-align: right;\">\n",
       "      <th></th>\n",
       "      <th>Row ID</th>\n",
       "      <th>Postal Code</th>\n",
       "      <th>Sales</th>\n",
       "      <th>Quantity</th>\n",
       "      <th>Discount</th>\n",
       "      <th>Profit</th>\n",
       "      <th>Shipping Cost</th>\n",
       "    </tr>\n",
       "  </thead>\n",
       "  <tbody>\n",
       "    <tr>\n",
       "      <th>count</th>\n",
       "      <td>51290.00000</td>\n",
       "      <td>9994.000000</td>\n",
       "      <td>51290.000000</td>\n",
       "      <td>51290.000000</td>\n",
       "      <td>51290.000000</td>\n",
       "      <td>51290.000000</td>\n",
       "      <td>51290.000000</td>\n",
       "    </tr>\n",
       "    <tr>\n",
       "      <th>mean</th>\n",
       "      <td>25645.50000</td>\n",
       "      <td>55190.379428</td>\n",
       "      <td>246.490581</td>\n",
       "      <td>3.476545</td>\n",
       "      <td>0.142908</td>\n",
       "      <td>28.610982</td>\n",
       "      <td>26.375915</td>\n",
       "    </tr>\n",
       "    <tr>\n",
       "      <th>std</th>\n",
       "      <td>14806.29199</td>\n",
       "      <td>32063.693350</td>\n",
       "      <td>487.565361</td>\n",
       "      <td>2.278766</td>\n",
       "      <td>0.212280</td>\n",
       "      <td>174.340972</td>\n",
       "      <td>57.296804</td>\n",
       "    </tr>\n",
       "    <tr>\n",
       "      <th>min</th>\n",
       "      <td>1.00000</td>\n",
       "      <td>1040.000000</td>\n",
       "      <td>0.444000</td>\n",
       "      <td>1.000000</td>\n",
       "      <td>0.000000</td>\n",
       "      <td>-6599.978000</td>\n",
       "      <td>0.000000</td>\n",
       "    </tr>\n",
       "    <tr>\n",
       "      <th>25%</th>\n",
       "      <td>12823.25000</td>\n",
       "      <td>23223.000000</td>\n",
       "      <td>30.758625</td>\n",
       "      <td>2.000000</td>\n",
       "      <td>0.000000</td>\n",
       "      <td>0.000000</td>\n",
       "      <td>2.610000</td>\n",
       "    </tr>\n",
       "    <tr>\n",
       "      <th>50%</th>\n",
       "      <td>25645.50000</td>\n",
       "      <td>56430.500000</td>\n",
       "      <td>85.053000</td>\n",
       "      <td>3.000000</td>\n",
       "      <td>0.000000</td>\n",
       "      <td>9.240000</td>\n",
       "      <td>7.790000</td>\n",
       "    </tr>\n",
       "    <tr>\n",
       "      <th>75%</th>\n",
       "      <td>38467.75000</td>\n",
       "      <td>90008.000000</td>\n",
       "      <td>251.053200</td>\n",
       "      <td>5.000000</td>\n",
       "      <td>0.200000</td>\n",
       "      <td>36.810000</td>\n",
       "      <td>24.450000</td>\n",
       "    </tr>\n",
       "    <tr>\n",
       "      <th>max</th>\n",
       "      <td>51290.00000</td>\n",
       "      <td>99301.000000</td>\n",
       "      <td>22638.480000</td>\n",
       "      <td>14.000000</td>\n",
       "      <td>0.850000</td>\n",
       "      <td>8399.976000</td>\n",
       "      <td>933.570000</td>\n",
       "    </tr>\n",
       "  </tbody>\n",
       "</table>\n",
       "</div>"
      ],
      "text/plain": [
       "            Row ID   Postal Code         Sales      Quantity      Discount  \\\n",
       "count  51290.00000   9994.000000  51290.000000  51290.000000  51290.000000   \n",
       "mean   25645.50000  55190.379428    246.490581      3.476545      0.142908   \n",
       "std    14806.29199  32063.693350    487.565361      2.278766      0.212280   \n",
       "min        1.00000   1040.000000      0.444000      1.000000      0.000000   \n",
       "25%    12823.25000  23223.000000     30.758625      2.000000      0.000000   \n",
       "50%    25645.50000  56430.500000     85.053000      3.000000      0.000000   \n",
       "75%    38467.75000  90008.000000    251.053200      5.000000      0.200000   \n",
       "max    51290.00000  99301.000000  22638.480000     14.000000      0.850000   \n",
       "\n",
       "             Profit  Shipping Cost  \n",
       "count  51290.000000   51290.000000  \n",
       "mean      28.610982      26.375915  \n",
       "std      174.340972      57.296804  \n",
       "min    -6599.978000       0.000000  \n",
       "25%        0.000000       2.610000  \n",
       "50%        9.240000       7.790000  \n",
       "75%       36.810000      24.450000  \n",
       "max     8399.976000     933.570000  "
      ]
     },
     "execution_count": 36,
     "metadata": {},
     "output_type": "execute_result"
    }
   ],
   "source": [
    "# data summary statistics\n",
    "df.describe()"
   ]
  },
  {
   "cell_type": "code",
   "execution_count": 37,
   "metadata": {},
   "outputs": [
    {
     "data": {
      "text/plain": [
       "(51290, 24)"
      ]
     },
     "execution_count": 37,
     "metadata": {},
     "output_type": "execute_result"
    }
   ],
   "source": [
    "# dataframe shape\n",
    "df.shape"
   ]
  },
  {
   "cell_type": "code",
   "execution_count": 38,
   "metadata": {},
   "outputs": [
    {
     "data": {
      "text/plain": [
       "Row ID                0\n",
       "Order ID              0\n",
       "Order Date            0\n",
       "Ship Date             0\n",
       "Ship Mode             0\n",
       "Customer ID           0\n",
       "Customer Name         0\n",
       "Segment               0\n",
       "City                  0\n",
       "State                 0\n",
       "Country               0\n",
       "Postal Code       41296\n",
       "Market                0\n",
       "Region                0\n",
       "Product ID            0\n",
       "Category              0\n",
       "Sub-Category          0\n",
       "Product Name          0\n",
       "Sales                 0\n",
       "Quantity              0\n",
       "Discount              0\n",
       "Profit                0\n",
       "Shipping Cost         0\n",
       "Order Priority        0\n",
       "dtype: int64"
      ]
     },
     "execution_count": 38,
     "metadata": {},
     "output_type": "execute_result"
    }
   ],
   "source": [
    "# columns with missing data\n",
    "df.isnull().sum()"
   ]
  },
  {
   "cell_type": "code",
   "execution_count": 39,
   "metadata": {},
   "outputs": [
    {
     "data": {
      "text/plain": [
       "0"
      ]
     },
     "execution_count": 39,
     "metadata": {},
     "output_type": "execute_result"
    }
   ],
   "source": [
    "# rows with duplicated data\n",
    "df.duplicated().sum()"
   ]
  },
  {
   "cell_type": "code",
   "execution_count": 40,
   "metadata": {},
   "outputs": [
    {
     "data": {
      "text/plain": [
       "Index(['row_id', 'order_id', 'order_date', 'ship_date', 'ship_mode',\n",
       "       'customer_id', 'customer_name', 'segment', 'city', 'state', 'country',\n",
       "       'postal_code', 'market', 'region', 'product_id', 'category',\n",
       "       'sub-category', 'product_name', 'sales', 'quantity', 'discount',\n",
       "       'profit', 'shipping_cost', 'order_priority'],\n",
       "      dtype='object')"
      ]
     },
     "execution_count": 40,
     "metadata": {},
     "output_type": "execute_result"
    }
   ],
   "source": [
    "df = df.copy()\n",
    "# rename the column names to snake_case without spaces\n",
    "df.columns = df.columns.str.replace(' ', '_').str.lower()\n",
    "df.columns"
   ]
  },
  {
   "cell_type": "code",
   "execution_count": 41,
   "metadata": {},
   "outputs": [],
   "source": [
    "# strings to dates\n",
    "df['order_date'] = pd.to_datetime(df['order_date'])\n",
    "\n",
    "df['ship_date'] = pd.to_datetime(df['ship_date'])"
   ]
  },
  {
   "cell_type": "code",
   "execution_count": 42,
   "metadata": {},
   "outputs": [
    {
     "data": {
      "text/plain": [
       "order_date    datetime64[ns]\n",
       "ship_date     datetime64[ns]\n",
       "dtype: object"
      ]
     },
     "execution_count": 42,
     "metadata": {},
     "output_type": "execute_result"
    }
   ],
   "source": [
    "# confirm changes\n",
    "df[['order_date', 'ship_date']].dtypes"
   ]
  },
  {
   "cell_type": "code",
   "execution_count": 43,
   "metadata": {},
   "outputs": [],
   "source": [
    "# create a new column sales_year\n",
    "df['sales_year'] = pd.DatetimeIndex(df['order_date']).year"
   ]
  },
  {
   "cell_type": "code",
   "execution_count": 44,
   "metadata": {},
   "outputs": [],
   "source": [
    "# convert categorical columns data type from object to category\n",
    "cols = ['ship_mode', 'segment', 'state', 'country', 'region', 'market', 'category', 'sub-category', 'order_priority']\n",
    "\n",
    "df[cols] = df[cols].astype('category')"
   ]
  },
  {
   "cell_type": "code",
   "execution_count": 45,
   "metadata": {},
   "outputs": [
    {
     "data": {
      "text/plain": [
       "row_id                     int64\n",
       "order_id                  object\n",
       "order_date        datetime64[ns]\n",
       "ship_date         datetime64[ns]\n",
       "ship_mode               category\n",
       "customer_id               object\n",
       "customer_name             object\n",
       "segment                 category\n",
       "city                      object\n",
       "state                   category\n",
       "country                 category\n",
       "postal_code              float64\n",
       "market                  category\n",
       "region                  category\n",
       "product_id                object\n",
       "category                category\n",
       "sub-category            category\n",
       "product_name              object\n",
       "sales                    float64\n",
       "quantity                   int64\n",
       "discount                 float64\n",
       "profit                   float64\n",
       "shipping_cost            float64\n",
       "order_priority          category\n",
       "sales_year                 int64\n",
       "dtype: object"
      ]
     },
     "execution_count": 45,
     "metadata": {},
     "output_type": "execute_result"
    }
   ],
   "source": [
    "# confirm changes\n",
    "df.dtypes"
   ]
  },
  {
   "cell_type": "markdown",
   "metadata": {},
   "source": [
    "## 2. visualisation\n",
    "\n",
    "### 2.1 trend analysis\n"
   ]
  },
  {
   "cell_type": "code",
   "execution_count": 46,
   "metadata": {},
   "outputs": [
    {
     "data": {
      "text/html": [
       "<div>\n",
       "<style scoped>\n",
       "    .dataframe tbody tr th:only-of-type {\n",
       "        vertical-align: middle;\n",
       "    }\n",
       "\n",
       "    .dataframe tbody tr th {\n",
       "        vertical-align: top;\n",
       "    }\n",
       "\n",
       "    .dataframe thead th {\n",
       "        text-align: right;\n",
       "    }\n",
       "</style>\n",
       "<table border=\"1\" class=\"dataframe\">\n",
       "  <thead>\n",
       "    <tr style=\"text-align: right;\">\n",
       "      <th></th>\n",
       "      <th>sales_year</th>\n",
       "      <th>sales</th>\n",
       "    </tr>\n",
       "  </thead>\n",
       "  <tbody>\n",
       "    <tr>\n",
       "      <th>0</th>\n",
       "      <td>2011</td>\n",
       "      <td>2.259451e+06</td>\n",
       "    </tr>\n",
       "    <tr>\n",
       "      <th>1</th>\n",
       "      <td>2012</td>\n",
       "      <td>2.677439e+06</td>\n",
       "    </tr>\n",
       "    <tr>\n",
       "      <th>2</th>\n",
       "      <td>2013</td>\n",
       "      <td>3.405746e+06</td>\n",
       "    </tr>\n",
       "    <tr>\n",
       "      <th>3</th>\n",
       "      <td>2014</td>\n",
       "      <td>4.299866e+06</td>\n",
       "    </tr>\n",
       "  </tbody>\n",
       "</table>\n",
       "</div>"
      ],
      "text/plain": [
       "   sales_year         sales\n",
       "0        2011  2.259451e+06\n",
       "1        2012  2.677439e+06\n",
       "2        2013  3.405746e+06\n",
       "3        2014  4.299866e+06"
      ]
     },
     "execution_count": 46,
     "metadata": {},
     "output_type": "execute_result"
    }
   ],
   "source": [
    "# sales trend\n",
    "sales_trend = df.groupby('sales_year', as_index=False)['sales'].sum()\n",
    "sales_trend"
   ]
  },
  {
   "cell_type": "code",
   "execution_count": 47,
   "metadata": {},
   "outputs": [
    {
     "data": {
      "image/png": "[encoded data removed]",
      "text/plain": [
       "<Figure size 800x600 with 1 Axes>"
      ]
     },
     "metadata": {},
     "output_type": "display_data"
    }
   ],
   "source": [
    "# plot total profit trends\n",
    "fig, ax = plt.subplots(figsize=(8,6))\n",
    "\n",
    "\n",
    "ax.bar(x=sales_trend.sales_year, height=sales_trend.sales)\n",
    "ax.plot(sales_trend.sales_year,sales_trend.sales)\n",
    "ax.yaxis.get_major_formatter().set_scientific(False)\n",
    "plt.title('Sales trend ', fontsize=18)\n",
    "plt.ylabel('Total Sales', fontsize=12)\n",
    "plt.xticks([2011,2012,2013,2014])\n",
    "plt.grid(axis='x')"
   ]
  },
  {
   "cell_type": "code",
   "execution_count": 48,
   "metadata": {},
   "outputs": [
    {
     "data": {
      "text/html": [
       "<div>\n",
       "<style scoped>\n",
       "    .dataframe tbody tr th:only-of-type {\n",
       "        vertical-align: middle;\n",
       "    }\n",
       "\n",
       "    .dataframe tbody tr th {\n",
       "        vertical-align: top;\n",
       "    }\n",
       "\n",
       "    .dataframe thead th {\n",
       "        text-align: right;\n",
       "    }\n",
       "</style>\n",
       "<table border=\"1\" class=\"dataframe\">\n",
       "  <thead>\n",
       "    <tr style=\"text-align: right;\">\n",
       "      <th></th>\n",
       "      <th>sales_year</th>\n",
       "      <th>profit</th>\n",
       "    </tr>\n",
       "  </thead>\n",
       "  <tbody>\n",
       "    <tr>\n",
       "      <th>0</th>\n",
       "      <td>2011</td>\n",
       "      <td>248940.81154</td>\n",
       "    </tr>\n",
       "    <tr>\n",
       "      <th>1</th>\n",
       "      <td>2012</td>\n",
       "      <td>307415.27910</td>\n",
       "    </tr>\n",
       "    <tr>\n",
       "      <th>2</th>\n",
       "      <td>2013</td>\n",
       "      <td>406935.23018</td>\n",
       "    </tr>\n",
       "    <tr>\n",
       "      <th>3</th>\n",
       "      <td>2014</td>\n",
       "      <td>504165.97046</td>\n",
       "    </tr>\n",
       "  </tbody>\n",
       "</table>\n",
       "</div>"
      ],
      "text/plain": [
       "  sales_year        profit\n",
       "0       2011  248940.81154\n",
       "1       2012  307415.27910\n",
       "2       2013  406935.23018\n",
       "3       2014  504165.97046"
      ]
     },
     "execution_count": 48,
     "metadata": {},
     "output_type": "execute_result"
    }
   ],
   "source": [
    "# profit trend\n",
    "profit_trend = df.groupby('sales_year', as_index=False)['profit'].sum()\n",
    "profit_trend['sales_year'] = profit_trend['sales_year'].astype('category')\n",
    "profit_trend"
   ]
  },
  {
   "cell_type": "code",
   "execution_count": 49,
   "metadata": {},
   "outputs": [
    {
     "data": {
      "image/png": "[encoded data removed]",
      "text/plain": [
       "<Figure size 800x600 with 1 Axes>"
      ]
     },
     "metadata": {},
     "output_type": "display_data"
    }
   ],
   "source": [
    "# plot total profit trends\n",
    "fig, ax = plt.subplots(figsize=(8,6))\n",
    "\n",
    "\n",
    "plt.bar(x=profit_trend.sales_year, height=profit_trend.profit) \n",
    "plt.plot(profit_trend.sales_year,profit_trend.profit) \n",
    "plt.title('Profit trend ', fontsize=18) \n",
    "plt.ylabel('Total Profits', fontsize=12)\n",
    "plt.xticks([2011,2012,2013,2014]) \n",
    "plt.grid(axis='x') "
   ]
  },
  {
   "cell_type": "markdown",
   "metadata": {},
   "source": [
    "### 2.2 geographic data pattern\n"
   ]
  },
  {
   "cell_type": "code",
   "execution_count": 50,
   "metadata": {},
   "outputs": [
    {
     "name": "stderr",
     "output_type": "stream",
     "text": [
      "/var/folders/4m/c9tdbxjd0xx04psbvrw3q3ym0000gn/T/ipykernel_19593/206929678.py:2: FutureWarning: The default value of numeric_only in DataFrameGroupBy.sum is deprecated. In a future version, numeric_only will default to False. Either specify numeric_only or select only columns which should be valid for the function.\n",
      "  sales_by_market = df.groupby('market', as_index=False).sum().sort_values(by='sales', ascending=False)\n"
     ]
    },
    {
     "data": {
      "text/html": [
       "<div>\n",
       "<style scoped>\n",
       "    .dataframe tbody tr th:only-of-type {\n",
       "        vertical-align: middle;\n",
       "    }\n",
       "\n",
       "    .dataframe tbody tr th {\n",
       "        vertical-align: top;\n",
       "    }\n",
       "\n",
       "    .dataframe thead th {\n",
       "        text-align: right;\n",
       "    }\n",
       "</style>\n",
       "<table border=\"1\" class=\"dataframe\">\n",
       "  <thead>\n",
       "    <tr style=\"text-align: right;\">\n",
       "      <th></th>\n",
       "      <th>market</th>\n",
       "      <th>row_id</th>\n",
       "      <th>postal_code</th>\n",
       "      <th>sales</th>\n",
       "      <th>quantity</th>\n",
       "      <th>discount</th>\n",
       "      <th>profit</th>\n",
       "      <th>shipping_cost</th>\n",
       "      <th>sales_year</th>\n",
       "      <th>profit_margin</th>\n",
       "    </tr>\n",
       "  </thead>\n",
       "  <tbody>\n",
       "    <tr>\n",
       "      <th>0</th>\n",
       "      <td>APAC</td>\n",
       "      <td>283802091</td>\n",
       "      <td>0.0</td>\n",
       "      <td>3.585744e+06</td>\n",
       "      <td>41226</td>\n",
       "      <td>1637.530</td>\n",
       "      <td>436000.04900</td>\n",
       "      <td>387165.11</td>\n",
       "      <td>22144565</td>\n",
       "      <td>0.121593</td>\n",
       "    </tr>\n",
       "    <tr>\n",
       "      <th>4</th>\n",
       "      <td>EU</td>\n",
       "      <td>152945000</td>\n",
       "      <td>0.0</td>\n",
       "      <td>2.938089e+06</td>\n",
       "      <td>37773</td>\n",
       "      <td>1031.050</td>\n",
       "      <td>372829.74150</td>\n",
       "      <td>309422.35</td>\n",
       "      <td>20127961</td>\n",
       "      <td>0.126895</td>\n",
       "    </tr>\n",
       "    <tr>\n",
       "      <th>6</th>\n",
       "      <td>US</td>\n",
       "      <td>362717239</td>\n",
       "      <td>551572652.0</td>\n",
       "      <td>2.297201e+06</td>\n",
       "      <td>37873</td>\n",
       "      <td>1561.090</td>\n",
       "      <td>286397.02170</td>\n",
       "      <td>238173.79</td>\n",
       "      <td>20115153</td>\n",
       "      <td>0.124672</td>\n",
       "    </tr>\n",
       "    <tr>\n",
       "      <th>5</th>\n",
       "      <td>LATAM</td>\n",
       "      <td>52988365</td>\n",
       "      <td>0.0</td>\n",
       "      <td>2.164605e+06</td>\n",
       "      <td>38526</td>\n",
       "      <td>1395.158</td>\n",
       "      <td>221643.48708</td>\n",
       "      <td>234138.61</td>\n",
       "      <td>20719523</td>\n",
       "      <td>0.102394</td>\n",
       "    </tr>\n",
       "    <tr>\n",
       "      <th>3</th>\n",
       "      <td>EMEA</td>\n",
       "      <td>233028207</td>\n",
       "      <td>0.0</td>\n",
       "      <td>8.061613e+05</td>\n",
       "      <td>11517</td>\n",
       "      <td>986.100</td>\n",
       "      <td>43897.97100</td>\n",
       "      <td>88375.73</td>\n",
       "      <td>10122436</td>\n",
       "      <td>0.054453</td>\n",
       "    </tr>\n",
       "    <tr>\n",
       "      <th>1</th>\n",
       "      <td>Africa</td>\n",
       "      <td>212025742</td>\n",
       "      <td>0.0</td>\n",
       "      <td>7.837732e+05</td>\n",
       "      <td>10564</td>\n",
       "      <td>718.800</td>\n",
       "      <td>88871.63100</td>\n",
       "      <td>88139.47</td>\n",
       "      <td>9232799</td>\n",
       "      <td>0.113389</td>\n",
       "    </tr>\n",
       "    <tr>\n",
       "      <th>2</th>\n",
       "      <td>Canada</td>\n",
       "      <td>17851051</td>\n",
       "      <td>0.0</td>\n",
       "      <td>6.692817e+04</td>\n",
       "      <td>833</td>\n",
       "      <td>0.000</td>\n",
       "      <td>17817.39000</td>\n",
       "      <td>7405.63</td>\n",
       "      <td>772906</td>\n",
       "      <td>0.266217</td>\n",
       "    </tr>\n",
       "  </tbody>\n",
       "</table>\n",
       "</div>"
      ],
      "text/plain": [
       "   market     row_id  postal_code         sales  quantity  discount  \\\n",
       "0    APAC  283802091          0.0  3.585744e+06     41226  1637.530   \n",
       "4      EU  152945000          0.0  2.938089e+06     37773  1031.050   \n",
       "6      US  362717239  551572652.0  2.297201e+06     37873  1561.090   \n",
       "5   LATAM   52988365          0.0  2.164605e+06     38526  1395.158   \n",
       "3    EMEA  233028207          0.0  8.061613e+05     11517   986.100   \n",
       "1  Africa  212025742          0.0  7.837732e+05     10564   718.800   \n",
       "2  Canada   17851051          0.0  6.692817e+04       833     0.000   \n",
       "\n",
       "         profit  shipping_cost  sales_year  profit_margin  \n",
       "0  436000.04900      387165.11    22144565       0.121593  \n",
       "4  372829.74150      309422.35    20127961       0.126895  \n",
       "6  286397.02170      238173.79    20115153       0.124672  \n",
       "5  221643.48708      234138.61    20719523       0.102394  \n",
       "3   43897.97100       88375.73    10122436       0.054453  \n",
       "1   88871.63100       88139.47     9232799       0.113389  \n",
       "2   17817.39000        7405.63      772906       0.266217  "
      ]
     },
     "execution_count": 50,
     "metadata": {},
     "output_type": "execute_result"
    }
   ],
   "source": [
    "# group data by market\n",
    "sales_by_market = df.groupby('market', as_index=False).sum().sort_values(by='sales', ascending=False)\n",
    "\n",
    "# calculate profit margins\n",
    "sales_by_market['profit_margin'] = sales_by_market['profit'] / sales_by_market['sales']\n",
    "\n",
    "sales_by_market"
   ]
  },
  {
   "cell_type": "code",
   "execution_count": 51,
   "metadata": {},
   "outputs": [
    {
     "name": "stderr",
     "output_type": "stream",
     "text": [
      "/var/folders/4m/c9tdbxjd0xx04psbvrw3q3ym0000gn/T/ipykernel_19593/4262540498.py:5: FutureWarning: \n",
      "\n",
      "Passing `palette` without assigning `hue` is deprecated and will be removed in v0.14.0. Assign the `y` variable to `hue` and set `legend=False` for the same effect.\n",
      "\n",
      "  sns.barplot(x=sales_by_market['sales'], y=sales_by_market['market'], palette='Greens_r',\n"
     ]
    },
    {
     "data": {
      "image/png": "[encoded data removed]",
      "text/plain": [
       "<Figure size 1200x800 with 1 Axes>"
      ]
     },
     "metadata": {},
     "output_type": "display_data"
    }
   ],
   "source": [
    "# plot the graph\n",
    "fig, ax = plt.subplots(figsize=(12,8)) \n",
    "\n",
    "# plot sales per market\n",
    "sns.barplot(x=sales_by_market['sales'], y=sales_by_market['market'], palette='Greens_r',\n",
    "             order=sales_by_market.sort_values(by='sales', ascending=False)['market']) \n",
    "plt.title('Market sales', fontdict={'fontsize':20}) \n",
    "\n",
    "#Annotating the sales.\n",
    "for p in ax.patches:\n",
    "    _, y = p.get_xy()\n",
    "    \n",
    "    ax.annotate(f\"${p.get_width() / 1000 :.1f}K\", xy=(p.get_width(), y+0.45))\n",
    "    \n",
    "#Removing bar junk\n",
    "ax.spines[[\"top\", \"right\", \"bottom\"]].set_visible(False)\n",
    "ax.set(ylabel=None, xlabel=None)\n",
    "ax.tick_params(labelbottom=None, bottom=None)"
   ]
  },
  {
   "cell_type": "code",
   "execution_count": 52,
   "metadata": {},
   "outputs": [
    {
     "data": {
      "text/plain": [
       "market\n",
       "APAC      436000.04900\n",
       "EU        372829.74150\n",
       "US        286397.02170\n",
       "LATAM     221643.48708\n",
       "Africa     88871.63100\n",
       "EMEA       43897.97100\n",
       "Canada     17817.39000\n",
       "Name: profit, dtype: float64"
      ]
     },
     "execution_count": 52,
     "metadata": {},
     "output_type": "execute_result"
    }
   ],
   "source": [
    "# profits in different Markets\n",
    "df.groupby('market')['profit'].sum().sort_values(ascending=False)"
   ]
  },
  {
   "cell_type": "code",
   "execution_count": 53,
   "metadata": {},
   "outputs": [
    {
     "name": "stderr",
     "output_type": "stream",
     "text": [
      "/var/folders/4m/c9tdbxjd0xx04psbvrw3q3ym0000gn/T/ipykernel_19593/2738685042.py:2: FutureWarning: The default value of numeric_only in DataFrameGroupBy.sum is deprecated. In a future version, numeric_only will default to False. Either specify numeric_only or select only columns which should be valid for the function.\n",
      "  profit_by_market = df.groupby('market', as_index=False).sum().sort_values(by='profit', ascending=False)\n"
     ]
    }
   ],
   "source": [
    "# profit in different countries\n",
    "profit_by_market = df.groupby('market', as_index=False).sum().sort_values(by='profit', ascending=False)\n",
    "\n"
   ]
  },
  {
   "cell_type": "code",
   "execution_count": 54,
   "metadata": {},
   "outputs": [
    {
     "name": "stderr",
     "output_type": "stream",
     "text": [
      "/var/folders/4m/c9tdbxjd0xx04psbvrw3q3ym0000gn/T/ipykernel_19593/1132188877.py:3: FutureWarning: \n",
      "\n",
      "Passing `palette` without assigning `hue` is deprecated and will be removed in v0.14.0. Assign the `x` variable to `hue` and set `legend=False` for the same effect.\n",
      "\n",
      "  sns.barplot(x=profit_by_market['market'], y=profit_by_market['profit'], palette='Greens_r',\n"
     ]
    },
    {
     "data": {
      "text/plain": [
       "Text(0.5, 1.0, 'Market profits')"
      ]
     },
     "execution_count": 54,
     "metadata": {},
     "output_type": "execute_result"
    },
    {
     "data": {
      "image/png": "[encoded data removed]",
      "text/plain": [
       "<Figure size 800x600 with 1 Axes>"
      ]
     },
     "metadata": {},
     "output_type": "display_data"
    }
   ],
   "source": [
    "fig, ax =  plt.subplots(figsize=(8,6))\n",
    "\n",
    "sns.barplot(x=profit_by_market['market'], y=profit_by_market['profit'], palette='Greens_r', \n",
    "            order=profit_by_market.sort_values('profit', ascending=False)['market']) \n",
    "plt.title('Market profits', fontdict={'fontsize':16}) \n",
    "\n",
    "\n"
   ]
  },
  {
   "cell_type": "code",
   "execution_count": 55,
   "metadata": {},
   "outputs": [
    {
     "data": {
      "text/plain": [
       "market\n",
       "EMEA      17.573221\n",
       "Africa    19.215058\n",
       "Canada    19.285495\n",
       "LATAM     22.745153\n",
       "US        23.831678\n",
       "EU        30.942235\n",
       "APAC      35.190430\n",
       "Name: shipping_cost, dtype: float64"
      ]
     },
     "execution_count": 55,
     "metadata": {},
     "output_type": "execute_result"
    }
   ],
   "source": [
    "# average shipping cost in different markets from lowest\n",
    "df.groupby('market')['shipping_cost'].mean().sort_values()"
   ]
  },
  {
   "cell_type": "code",
   "execution_count": 56,
   "metadata": {},
   "outputs": [],
   "source": [
    "# How long does it take to ship products \n",
    "# add a new column shipment_days\n",
    "df['shipment_days'] = df['ship_date'] - df['order_date']"
   ]
  },
  {
   "cell_type": "code",
   "execution_count": 57,
   "metadata": {},
   "outputs": [
    {
     "data": {
      "text/plain": [
       "market\n",
       "Canada             3 days 16:15:00\n",
       "Africa   3 days 21:50:58.469587966\n",
       "EMEA     3 days 22:24:04.581427719\n",
       "US       3 days 23:00:46.828096858\n",
       "APAC     3 days 23:15:29.940010907\n",
       "LATAM    3 days 23:55:23.023120264\n",
       "EU          4 days 00:11:57.120000\n",
       "Name: shipment_days, dtype: timedelta64[ns]"
      ]
     },
     "execution_count": 57,
     "metadata": {},
     "output_type": "execute_result"
    }
   ],
   "source": [
    "# shipment days on average in different markets\n",
    "df.groupby('market')['shipment_days'].mean().sort_values()"
   ]
  },
  {
   "cell_type": "markdown",
   "metadata": {},
   "source": [
    "### 2.3 category wise analysis"
   ]
  },
  {
   "cell_type": "code",
   "execution_count": 58,
   "metadata": {},
   "outputs": [
    {
     "data": {
      "text/plain": [
       "category\n",
       "Technology         4.744557e+06\n",
       "Furniture          4.110874e+06\n",
       "Office Supplies    3.787070e+06\n",
       "Name: sales, dtype: float64"
      ]
     },
     "execution_count": 58,
     "metadata": {},
     "output_type": "execute_result"
    }
   ],
   "source": [
    "# group total sales by category from the highest sale.\n",
    "sales_category = df.groupby('category')['sales'].sum().sort_values(ascending=False)\n",
    "sales_category"
   ]
  },
  {
   "cell_type": "code",
   "execution_count": 59,
   "metadata": {},
   "outputs": [
    {
     "data": {
      "text/plain": [
       "category\n",
       "Technology         663778.73318\n",
       "Office Supplies    518473.83430\n",
       "Furniture          285204.72380\n",
       "Name: profit, dtype: float64"
      ]
     },
     "execution_count": 59,
     "metadata": {},
     "output_type": "execute_result"
    }
   ],
   "source": [
    "# group total profits by category\n",
    "profit_category = df.groupby('category')['profit'].sum().sort_values(ascending=False)\n",
    "profit_category"
   ]
  },
  {
   "cell_type": "code",
   "execution_count": 60,
   "metadata": {},
   "outputs": [
    {
     "data": {
      "text/plain": [
       "Text(0.5, 1.0, 'Total Profit by Category')"
      ]
     },
     "execution_count": 60,
     "metadata": {},
     "output_type": "execute_result"
    },
    {
     "data": {
      "image/png": "[encoded data removed]",
      "text/plain": [
       "<Figure size 1200x800 with 2 Axes>"
      ]
     },
     "metadata": {},
     "output_type": "display_data"
    }
   ],
   "source": [
    "# group total sales by category\n",
    "sales_category = df.groupby('category')['sales'].sum()\n",
    "\n",
    "# group total profits by category\n",
    "profit_category = df.groupby('category')['profit'].sum()\n",
    "\n",
    "\n",
    "# figure size\n",
    "plt.figure(figsize=(12,8)) \n",
    "\n",
    "# left total sales pie chart\n",
    "plt.subplot(1,2,1)  # 1 row, 2 columns, the 1st plot.\n",
    "plt.pie(sales_category.values, labels=sales_category.index, startangle=90, counterclock=False,\n",
    "        autopct=lambda p:f'{p:.1f}% \\n ${p*np.sum(sales_category.values)/100 :,.0f}', \n",
    "        wedgeprops={'linewidth': 1, 'edgecolor':'black', 'alpha':0.75}) \n",
    "plt.axis('square') \n",
    "plt.title('Total Sales by Category',  fontdict={'fontsize':16}) \n",
    "\n",
    "# right total profits pie chart\n",
    "plt.subplot(1,2,2)  # 1 row, 2 columns, the 2nd plot\n",
    "plt.pie(profit_category.values, labels=profit_category.index, startangle=90, counterclock=False,\n",
    "        autopct=lambda p:f'{p:.1f}% \\n ${p*np.sum(profit_category.values)/100 :,.0f}',\n",
    "        wedgeprops={'linewidth': 1, 'edgecolor':'black', 'alpha':0.75}) \n",
    "plt.axis('square') \n",
    "plt.title('Total Profit by Category', fontdict={'fontsize':16}) "
   ]
  },
  {
   "cell_type": "markdown",
   "metadata": {},
   "source": [
    "#### Interestingly, Furniture has a lower percentage of profits raked in compared to its share of percentage sale."
   ]
  },
  {
   "cell_type": "markdown",
   "metadata": {},
   "source": [
    "## 3 Findings\n",
    "\n",
    "### Categories and Subcategories\n",
    "* The three main categories (Technology, Furniture, and Office Supplies) each contribute significantly to sales, with Technology leading at 37.5%.\n",
    "* Technology generates the highest total profits (45.2%), followed by Office Supplies (35.3%) and Furniture (19.4%).\n",
    "* Furniture, despite high sales, has relatively low profits.\n",
    "\n",
    "### Geographical Markets\n",
    "* APAC is the largest market for Global Superstore, followed by the US, EMEA, and Canada.\n",
    "* Canada, despite low sales, has the highest profit margin.\n",
    "* Profit margins generally range from 10% to 14% across markets.\n",
    "* The EMEA market has lower profits and a lower profit margin compared to other markets.\n",
    "\n",
    "### Time Series\n",
    "* Global Superstore has experienced steady growth in sales and profits from 2011 to 2014.\n",
    "* This positive trend indicates potential for future growth.\n"
   ]
  }
 ],
 "metadata": {
  "kernelspec": {
   "display_name": "Python 3",
   "language": "python",
   "name": "python3"
  },
  "language_info": {
   "codemirror_mode": {
    "name": "ipython",
    "version": 3
   },
   "file_extension": ".py",
   "mimetype": "text/x-python",
   "name": "python",
   "nbconvert_exporter": "python",
   "pygments_lexer": "ipython3",
   "version": "3.11.3"
  }
 },
 "nbformat": 4,
 "nbformat_minor": 2
}
